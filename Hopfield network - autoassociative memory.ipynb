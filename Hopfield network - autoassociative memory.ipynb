{
 "cells": [
  {
   "cell_type": "markdown",
   "metadata": {},
   "source": [
    "Reference: J.J. Hopfield, Neural networks and physical systems with emergent collective computational abilities., Proc. Natl. Acad. Sci. U.S.A. 79 (8) 2554-2558, https://doi.org/10.1073/pnas.79.8.2554 (1982)."
   ]
  },
  {
   "cell_type": "markdown",
   "metadata": {},
   "source": [
    "Set-up:\n",
    "\n",
    "1. Network structure：\n",
    "   * The network has $N$ neurons in the whole network.\n",
    "   * The state is either 0 or 1(which is binary).\n",
    "\n",
    "3. Connectivity matrix：\n",
    "   * Hebbian learning rule：\n",
    "     $$\n",
    "     W_{ij} = \\sum_{\\ell=1}^K (2p_i^{(\\ell)} - 1)(2p_j^{(\\ell)} - 1)\n",
    "     $$\n",
    "   * And no self-connectivity：$W_{ii} = 0$\n",
    "\n",
    "4. Recall dynamics：\n",
    "   * Asynchronous；\n",
    "   * The update time is drawn from exponential distribution.\n",
    "   * Update if:\n",
    "     $$\n",
    "     \\sum_{j=1}^K W_{ij}r_j >0\n",
    "     $$\n",
    "\n",
    "5. Other notation:\n",
    "   * K is the number of memories stored in the network."
   ]
  },
  {
   "cell_type": "code",
   "execution_count": 1,
   "metadata": {},
   "outputs": [
    {
     "name": "stdout",
     "output_type": "stream",
     "text": [
      "Using matplotlib backend: Qt5Agg\n"
     ]
    }
   ],
   "source": [
    "%matplotlib auto\n",
    "import numpy as np\n",
    "import matplotlib.pyplot as plt\n",
    "from scipy.stats import bernoulli\n",
    "from scipy.stats import expon\n",
    "import random"
   ]
  },
  {
   "cell_type": "code",
   "execution_count": 2,
   "metadata": {},
   "outputs": [],
   "source": [
    "def generate_p(N,K,probability):\n",
    "    return np.reshape(bernoulli.rvs(probability,size=N*K),(N,K))"
   ]
  },
  {
   "cell_type": "code",
   "execution_count": 3,
   "metadata": {},
   "outputs": [],
   "source": [
    "def generate_network(p):\n",
    "    W=np.dot((2*p-1),(2*p-1).T)\n",
    "    return W-np.diag(np.diag(W))"
   ]
  },
  {
   "cell_type": "code",
   "execution_count": 4,
   "metadata": {},
   "outputs": [],
   "source": [
    "def real_time_plot(axe,r):\n",
    "    plt.cla()\n",
    "    plt.tight_layout()\n",
    "    axe.set_title('r after the recall dynamics')\n",
    "    axe.eventplot(np.nonzero(r))\n",
    "    plt.pause(0.001)"
   ]
  },
  {
   "cell_type": "code",
   "execution_count": 5,
   "metadata": {},
   "outputs": [],
   "source": [
    "def recall_dynamics(N,W,r,t_max,axe,p):\n",
    "    #generate the update time\n",
    "    t=np.reshape(expon.rvs(probability,size=N*25),(25,N))\n",
    "    t=np.cumsum(t,axis=0)\n",
    "    #sort the update time by index\n",
    "    index=(np.unravel_index(np.argsort(t,axis=None),t.shape))\n",
    "    t_idx=index[0]\n",
    "    n_idx=index[1]\n",
    "    k=0\n",
    "    while(t[t_idx[k]][n_idx[k]]<=t_max):\n",
    "        if (np.dot(r,W[n_idx[k],:])>0):\n",
    "            r[n_idx[k]]=1\n",
    "        else:\n",
    "            r[n_idx[k]]=0\n",
    "        real_time_plot(axe,r)\n",
    "        k+=1\n",
    "        if((k==25*N-1)or(p[:,0]==r).all()):\n",
    "            break\n",
    "    return r"
   ]
  },
  {
   "cell_type": "code",
   "execution_count": 6,
   "metadata": {},
   "outputs": [],
   "source": [
    "K=5\n",
    "N=200\n",
    "probability=0.5\n",
    "t_max=10\n",
    "fraction=0.1"
   ]
  },
  {
   "cell_type": "code",
   "execution_count": 7,
   "metadata": {},
   "outputs": [],
   "source": [
    "#generate the memory p and network W\n",
    "p=generate_p(N,K,probability)\n",
    "W=generate_network(p)"
   ]
  },
  {
   "cell_type": "code",
   "execution_count": 8,
   "metadata": {
    "scrolled": true
   },
   "outputs": [
    {
     "name": "stdout",
     "output_type": "stream",
     "text": [
      "Successfully recalled.\n"
     ]
    }
   ],
   "source": [
    "#initialize the corruputed version r with original p0\n",
    "r=p[:,0].copy()\n",
    "\n",
    "#randomly choose which neuron's activity is corrupted\n",
    "flip=random.sample(range(0,N),int(fraction*N))\n",
    "\n",
    "#change the activity in r\n",
    "for i in range(int(fraction*N)):\n",
    "    if (r[flip[i]]==0):\n",
    "        r[flip[i]]=1\n",
    "    else:\n",
    "        r[flip[i]]=0\n",
    "        \n",
    "\n",
    "#show the three pattern in eventplot\n",
    "\n",
    "fig,ax=plt.subplots(3,1)\n",
    "ax[0].eventplot(np.nonzero(r))\n",
    "ax[0].set_title('the corrupted vesion r')\n",
    "ax[1].eventplot(np.nonzero(p[:,0]))\n",
    "ax[1].set_title('the original memory pattern p')\n",
    "\n",
    "#activate the interactive plot\n",
    "plt.ion()\n",
    "\n",
    "#do the recall procedure\n",
    "r=recall_dynamics(N,W,r,t_max,ax[2],p)\n",
    "\n",
    "plt.ioff()\n",
    "plt.show()\n",
    "\n",
    "#check if the memory is recalled\n",
    "if ((p[:,0]==r).all()):\n",
    "    print('Successfully recalled.')\n",
    "else:\n",
    "    print('Failed to recall.')"
   ]
  },
  {
   "cell_type": "code",
   "execution_count": null,
   "metadata": {},
   "outputs": [],
   "source": []
  }
 ],
 "metadata": {
  "kernelspec": {
   "display_name": "Python 3 (ipykernel)",
   "language": "python",
   "name": "python3"
  },
  "language_info": {
   "codemirror_mode": {
    "name": "ipython",
    "version": 3
   },
   "file_extension": ".py",
   "mimetype": "text/x-python",
   "name": "python",
   "nbconvert_exporter": "python",
   "pygments_lexer": "ipython3",
   "version": "3.11.5"
  }
 },
 "nbformat": 4,
 "nbformat_minor": 4
}
